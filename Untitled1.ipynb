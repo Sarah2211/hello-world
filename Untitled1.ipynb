{
  "nbformat": 4,
  "nbformat_minor": 0,
  "metadata": {
    "colab": {
      "provenance": [],
      "authorship_tag": "ABX9TyPP44YHg353UfKPUNVO3Mi6",
      "include_colab_link": true
    },
    "kernelspec": {
      "name": "python3",
      "display_name": "Python 3"
    },
    "language_info": {
      "name": "python"
    }
  },
  "cells": [
    {
      "cell_type": "markdown",
      "metadata": {
        "id": "view-in-github",
        "colab_type": "text"
      },
      "source": [
        "<a href=\"https://colab.research.google.com/github/Sarah2211/hello-world/blob/main/Untitled1.ipynb\" target=\"_parent\"><img src=\"https://colab.research.google.com/assets/colab-badge.svg\" alt=\"Open In Colab\"/></a>"
      ]
    },
    {
      "cell_type": "code",
      "execution_count": null,
      "metadata": {
        "id": "5Y5VlTKvw164"
      },
      "outputs": [],
      "source": [
        "hiiii"
      ]
    },
    {
      "cell_type": "code",
      "source": [
        "yfifk"
      ],
      "metadata": {
        "id": "XV4Q8uS10Szt"
      },
      "execution_count": null,
      "outputs": []
    }
  ]
}